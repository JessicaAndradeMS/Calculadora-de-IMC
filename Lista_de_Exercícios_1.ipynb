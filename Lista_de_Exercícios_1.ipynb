{
  "nbformat": 4,
  "nbformat_minor": 0,
  "metadata": {
    "colab": {
      "provenance": [],
      "authorship_tag": "ABX9TyPi+wRjrVRwMM4DzRJjX3Dl",
      "include_colab_link": true
    },
    "kernelspec": {
      "name": "python3",
      "display_name": "Python 3"
    },
    "language_info": {
      "name": "python"
    }
  },
  "cells": [
    {
      "cell_type": "markdown",
      "metadata": {
        "id": "view-in-github",
        "colab_type": "text"
      },
      "source": [
        "<a href=\"https://colab.research.google.com/github/JessicaAndradeMS/Calculadora-de-IMC/blob/main/Lista_de_Exerc%C3%ADcios_1.ipynb\" target=\"_parent\"><img src=\"https://colab.research.google.com/assets/colab-badge.svg\" alt=\"Open In Colab\"/></a>"
      ]
    },
    {
      "cell_type": "markdown",
      "source": [
        "Exercício 1: Calculadora de IMC"
      ],
      "metadata": {
        "id": "-frMADRUjEe0"
      }
    },
    {
      "cell_type": "code",
      "execution_count": null,
      "metadata": {
        "id": "ykRRtGTHiySR"
      },
      "outputs": [],
      "source": [
        "altura = float(input(\"Digite sua altura em metros: \"))\n",
        "peso = float(input(\"Digite seu peso em Kg: \"))\n",
        "\n",
        "imc = peso / (altura ** 2)\n",
        "\n",
        "if imc < 18.5:\n",
        "    classificacao = \"Abaixo do peso\"\n",
        "elif imc < 25:\n",
        "    classificacao = \"Peso normal\"\n",
        "elif imc < 30:\n",
        "    classificacao = \"Sobrepeso\"\n",
        "elif imc < 35:\n",
        "    classificacao = \"Obesidade grau 1\"\n",
        "elif imc < 40:\n",
        "    classificacao = \"Obesidade grau 2\"\n",
        "else:\n",
        "    classificacao = \"Obesidade grau 3\"\n",
        "\n",
        "print(f\"Seu IMC é {imc:.2f}. Classificação: {classificacao}\")"
      ]
    },
    {
      "cell_type": "markdown",
      "source": [
        "Exercício 2: Validador de CPF"
      ],
      "metadata": {
        "id": "2jRcHxaPmM_I"
      }
    },
    {
      "cell_type": "code",
      "source": [
        "cpf = input(\"Digite o CPF (XXX.XXX.XXX-XX ou apenas números): \")\n",
        "\n",
        "leitura_cpf = cpf.replace(\".\", \"\").replace(\"-\", \"\")\n",
        "\n",
        "if len(leitura_cpf) == 11 and leitura_cpf.isdigit():\n",
        "    print(\"Formato de CPF válido.\")\n",
        "else:\n",
        "    print(\"Formato de CPF inválido. O CPF deve conter 11 dígitos numéricos.\")"
      ],
      "metadata": {
        "id": "79oyZm9TmQDo"
      },
      "execution_count": null,
      "outputs": []
    },
    {
      "cell_type": "markdown",
      "source": [
        "Exercício 3: Conversor de Temperatura"
      ],
      "metadata": {
        "id": "z1ekq3Gav2Pd"
      }
    },
    {
      "cell_type": "code",
      "source": [
        "temperatura = float(input(\"Digite a temperatura: \"))\n",
        "unidade = input(\"Digite a unidade (C para Celsius, F para Fahrenheit): \").upper()\n",
        "\n",
        "if unidade == \"C\":\n",
        "    fahrenheit = (temperatura * 9/5) + 32\n",
        "    print(f\"{temperatura:.2f}°C equivale a {fahrenheit:.2f}°F\")\n",
        "elif unidade == \"F\":\n",
        "    celsius = (temperatura - 32) * 5/9\n",
        "    print(f\"{temperatura:.2f}°F equivale a {celsius:.2f}°C\")\n",
        "else:\n",
        "    print(\"Unidade inválida. Digite 'C' para Celsius ou 'F' para Fahrenheit.\")"
      ],
      "metadata": {
        "id": "leci_mV5v4gn"
      },
      "execution_count": null,
      "outputs": []
    },
    {
      "cell_type": "markdown",
      "source": [
        "Exercício 4: Calculadora de Juros Simples"
      ],
      "metadata": {
        "id": "9Ahd0NXswPxa"
      }
    },
    {
      "cell_type": "code",
      "source": [
        "capital = float(input(\"Digite o valor do investimento: R$\"))\n",
        "taxa = float(input(\"Digite a taxa de juros anual (%): \"))\n",
        "tempo = float(input(\"Digite o tempo de aplicação (anos): \"))\n",
        "\n",
        "taxa_decimal = taxa / 100\n",
        "\n",
        "juros = capital * taxa_decimal * tempo\n",
        "montante = capital + juros\n",
        "\n",
        "print(f\"Juros: R${juros:.2f}\")\n",
        "print(f\"Montante final: R${montante:.2f}\")"
      ],
      "metadata": {
        "id": "BeMA4hQowSYV"
      },
      "execution_count": null,
      "outputs": []
    },
    {
      "cell_type": "markdown",
      "source": [
        "Exercício 5: Analisador de Texto Simples"
      ],
      "metadata": {
        "id": "olSVDW9awq98"
      }
    },
    {
      "cell_type": "code",
      "source": [
        "texto = input(\"Digite um texto: \")\n",
        "\n",
        "palavras = texto.split()\n",
        "total_palavras = len(palavras)\n",
        "\n",
        "palavra_pesquisada = input(\"Digite a palavra que deseja contar: \")\n",
        "\n",
        "frequencia = 0\n",
        "for palavra in palavras:\n",
        "    if palavra.lower() == palavra_pesquisada.lower():\n",
        "        frequencia += 1\n",
        "\n",
        "print(f\"Número total de palavras: {total_palavras}\")\n",
        "print(f\"A palavra '{palavra_pesquisada}' apareceu {frequencia} vezes.\")"
      ],
      "metadata": {
        "id": "Qs65MAKdwrXh"
      },
      "execution_count": null,
      "outputs": []
    }
  ]
}